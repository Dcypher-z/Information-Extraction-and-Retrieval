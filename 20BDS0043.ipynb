{
 "cells": [
  {
   "cell_type": "code",
   "execution_count": 73,
   "metadata": {},
   "outputs": [
    {
     "name": "stderr",
     "output_type": "stream",
     "text": [
      "[nltk_data] Downloading package punkt to\n",
      "[nltk_data]     C:\\Users\\hp\\AppData\\Roaming\\nltk_data...\n",
      "[nltk_data]   Package punkt is already up-to-date!\n",
      "[nltk_data] Downloading package wordnet to\n",
      "[nltk_data]     C:\\Users\\hp\\AppData\\Roaming\\nltk_data...\n",
      "[nltk_data]   Package wordnet is already up-to-date!\n"
     ]
    }
   ],
   "source": [
    "import nltk\n",
    "from collections import defaultdict\n",
    "from sklearn.feature_extraction.text import TfidfVectorizer\n",
    "from sklearn.metrics.pairwise import cosine_similarity\n",
    "nltk.download('punkt')\n",
    "nltk.download('wordnet')\n",
    "from IPython.display import clear_output \n",
    "from nltk.corpus import wordnet as wn\n",
    "import textwrap"
   ]
  },
  {
   "cell_type": "code",
   "execution_count": 4,
   "metadata": {},
   "outputs": [
    {
     "name": "stderr",
     "output_type": "stream",
     "text": [
      "[nltk_data] Downloading package omw-1.4 to\n",
      "[nltk_data]     C:\\Users\\hp\\AppData\\Roaming\\nltk_data...\n"
     ]
    },
    {
     "data": {
      "text/plain": [
       "True"
      ]
     },
     "execution_count": 4,
     "metadata": {},
     "output_type": "execute_result"
    }
   ],
   "source": [
    "nltk.download('omw-1.4')"
   ]
  },
  {
   "cell_type": "code",
   "execution_count": 78,
   "metadata": {},
   "outputs": [],
   "source": [
    "def get_relevant_documents(documents,query,threshold=0):\n",
    "    vectorizer = TfidfVectorizer()\n",
    "    X = vectorizer.fit_transform(documents)\n",
    "    q = vectorizer.transform([query])\n",
    "    sims = cosine_similarity(X, q)\n",
    "    relevant_indices = [i for i in range(len(sims)) if sims[i] >= threshold]\n",
    "    relevant_documents = [documents[i] for i in relevant_indices]\n",
    "    return relevant_documents\n",
    "\n",
    "def extract_terms(documents):\n",
    "    terms = []\n",
    "    for doc in documents:\n",
    "        tokens = nltk.word_tokenize(doc)\n",
    "        terms += [token.lower() for token in tokens if token.isalpha()]\n",
    "    return terms\n",
    "\n",
    "def expand_query(terms):\n",
    "    expanded_terms = []\n",
    "    for term in terms:\n",
    "        synsets = wn.synsets(term)\n",
    "        for synset in synsets:\n",
    "            for lemma in synset.lemmas():\n",
    "                expanded_terms.append(lemma.name())\n",
    "                related_forms = lemma.derivationally_related_forms()\n",
    "                expanded_terms += [related_form.name() for related_form in related_forms]\n",
    "    return expanded_terms\n",
    "\n",
    "\n",
    "def reformulate_query(query, expanded_terms):\n",
    "    query +=' '+' '.join(expanded_terms)\n",
    "    return query\n",
    "\n",
    "def relevance_feedback(documents,query):\n",
    "    rel_documents=get_relevant_documents(documents,query)\n",
    "    terms=extract_terms(rel_documents)\n",
    "    terms=expand_query(terms)\n",
    "    newquery=reformulate_query(query,terms)\n",
    "    newquery = newquery.split(\" \")\n",
    "    newquery = unique(newquery)\n",
    "    newquery = newquery[1:20]\n",
    "    finalquery =\"\"\n",
    "    for i in newquery:\n",
    "        finalquery+=(i)+\" \"\n",
    "    print(\"New Query: \",textwrap.fill(finalquery))\n",
    "\n",
    "def unique(list1):\n",
    "    unique_list = []\n",
    "    for x in list1:\n",
    "        if x not in unique_list:\n",
    "            unique_list.append(x)\n",
    "    return unique_list\n",
    "\n"
   ]
  },
  {
   "cell_type": "code",
   "execution_count": 79,
   "metadata": {},
   "outputs": [
    {
     "name": "stdout",
     "output_type": "stream",
     "text": [
      "New Query:  chatbot chatGPT let_go_of let_go release relinquish relinquishment\n",
      "free freeing liberate liberation liberty liberator unloose unloosen\n",
      "loose turn publish publication\n"
     ]
    }
   ],
   "source": [
    "#Q=\"OpenAI chatbot chatGPT\"\n",
    "documents=[\n",
    "           \"Since OpenAI released its blockbuster bot ChatGPT in November, users have casually experimented with the tool, with even Insider reporters trying to simulate news stories or message potential dates.To older millennials who grew up with IRC chat rooms — a text instant message system — the personal tone of conversations with the bot can evoke the experience of chatting online. But ChatGPT, the latest in technology known as \\'large language model tools,\\' doesn\\'t speak with sentience and doesn't \\\"think\\\" the way people do.\",\n",
    "           \"Other tech companies like Google and Meta have developed their own large language model tools, which use programs that take in human prompts and devise sophisticated responses. OpenAI, in a revolutionary move, also created a user interface that is letting the general public experiment with it directly. Some recent efforts to use chat bots for real-world services have proved troubling — with odd results. The mental health company Koko came under fire this month after its founder wrote about how the company used GPT-3 in an experiment to reply to users.\" ,\n",
    "           \"The founder of the controversial DoNotPay service, which claims its GPT-3-driven chat bot helps users resolve customer service disputes, also said an AI \\\"lawyer\\\" would advise defendants in actual courtroom traffic cases in real time, though he later walked that back over concerns about its risks. Chat GPT is an AI Chatbot developed by Open AI. The chatbot has a language-based model that the developer fine-tunes for human interaction in a conversational manner. Effectively it’s a simulated chatbot primarily designed for customer service; people use it for various other purposes too though. These range from writing essays to drafting business plans, to generating code. But what is it and what can it really do?\",\n",
    "           \"Chat GPT is an AI chatbot auto-generative system created by Open AI for online customer care. It is a pre-trained generative chat, which makes use of (NLP) Natural Language Processing. The source of its data is textbooks, websites, and various articles, which it uses to model its own language for responding to human interaction. The main feature of Chat GPT is generating responses like those humans would provide, in a text box. Therefore, it is suitable for chatbots, AI system conversations, and virtual assistants. However, it can also give natural answers to questions in a conversational tone and can generate stories poems and more. Moreover, it can: Write code, Write an article or blog post, Translate, Debug, Write a story/poem, Recommend chords and lyrics\"\n",
    "           ]\n",
    "\n",
    "Q=\"OpenAI chatbot chatGPT\"\n",
    "\n",
    "relevance_feedback(documents,Q)"
   ]
  }
 ],
 "metadata": {
  "kernelspec": {
   "display_name": "base",
   "language": "python",
   "name": "python3"
  },
  "language_info": {
   "codemirror_mode": {
    "name": "ipython",
    "version": 3
   },
   "file_extension": ".py",
   "mimetype": "text/x-python",
   "name": "python",
   "nbconvert_exporter": "python",
   "pygments_lexer": "ipython3",
   "version": "3.9.16"
  },
  "orig_nbformat": 4
 },
 "nbformat": 4,
 "nbformat_minor": 2
}
